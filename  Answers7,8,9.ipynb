{
 "cells": [
  {
   "cell_type": "code",
   "execution_count": 1,
   "metadata": {},
   "outputs": [],
   "source": [
    "list_1 =[0,1,2,3]\n",
    "list_2 =[4,5,6,7]\n",
    "list_3 =[8,9,10,11]\n",
    "list_4 =[12,13,14,15]\n",
    "\n"
   ]
  },
  {
   "cell_type": "code",
   "execution_count": 2,
   "metadata": {},
   "outputs": [
    {
     "name": "stdout",
     "output_type": "stream",
     "text": [
      "2\n"
     ]
    }
   ],
   "source": [
    "print(list_1[2])"
   ]
  },
  {
   "cell_type": "code",
   "execution_count": 3,
   "metadata": {},
   "outputs": [
    {
     "name": "stdout",
     "output_type": "stream",
     "text": [
      "4\n"
     ]
    }
   ],
   "source": [
    "print(list_2[0])"
   ]
  },
  {
   "cell_type": "code",
   "execution_count": 4,
   "metadata": {},
   "outputs": [
    {
     "name": "stdout",
     "output_type": "stream",
     "text": [
      "9\n"
     ]
    }
   ],
   "source": [
    "print(list_3[1])"
   ]
  },
  {
   "cell_type": "code",
   "execution_count": 5,
   "metadata": {},
   "outputs": [
    {
     "name": "stdout",
     "output_type": "stream",
     "text": [
      "15\n"
     ]
    }
   ],
   "source": [
    "print(list_4[3])"
   ]
  },
  {
   "cell_type": "code",
   "execution_count": 6,
   "metadata": {},
   "outputs": [],
   "source": [
    "## Answer 8"
   ]
  },
  {
   "cell_type": "code",
   "execution_count": null,
   "metadata": {},
   "outputs": [],
   "source": [
    "san_francisco = {\n",
    "#     \"west_coast\": True,\n",
    "#     \"has_multiple_bridges\": True,\n",
    "#     \"known_for_pizza\": False,\n",
    "#     \"coastal\": True,\n",
    "#     \"snows\": False,\n",
    "#     \"very_hot\": False,\n",
    "#     \"mayor\": \"London Breed\",\n",
    "#     \"state\": \"California\",\n",
    "#     \"country\": \"USA\",\n",
    "#     \"best_food\": \"burritos\",\n",
    "#     \"sports_teams\": [\"Giants\", \"Warriors\", \"Forty-Niners\"],\n",
    "#     \"tallest_building\": \"SalesForce Building\",\n",
    "#     \"population\": 884363,\n",
    "#     \"city_size\": \"large\",\n",
    "#     \"median_house_price\": 1610000,\n",
    "#     \"famous_residents\": [\"Maya Angelou\", \"Robert Frost\", \"Carlos Santana\"],\n",
    "#     \"homeless_pop\": 1150,\n",
    "#     \"political_leaning\": \"Democrat\",\n",
    "#     \"notable_attractions\": [\"Alcatraz\", \"Golden Gate Bridge\", \"Fisherman's Wharf\"],\n",
    "#     \"natural_disasters\": [\"Earthquakes\"],\n",
    "# }\n",
    "\n",
    "# Re-create the content of the commented out `san_francisco` dictionary by using bracket notation to manually add each of the key-value pairs (including nested objects).\n",
    "\n",
    "\n",
    "\n"
   ]
  }
 ],
 "metadata": {
  "kernelspec": {
   "display_name": "Python 3",
   "language": "python",
   "name": "python3"
  },
  "language_info": {
   "codemirror_mode": {
    "name": "ipython",
    "version": 3
   },
   "file_extension": ".py",
   "mimetype": "text/x-python",
   "name": "python",
   "nbconvert_exporter": "python",
   "pygments_lexer": "ipython3",
   "version": "3.8.5"
  }
 },
 "nbformat": 4,
 "nbformat_minor": 4
}
