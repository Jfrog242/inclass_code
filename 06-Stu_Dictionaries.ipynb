{
 "cells": [
  {
   "cell_type": "code",
   "execution_count": 1,
   "metadata": {},
   "outputs": [],
   "source": [
    "import pandas as pd"
   ]
  },
  {
   "cell_type": "code",
   "execution_count": 5,
   "metadata": {},
   "outputs": [],
   "source": [
    "dict_fin= {\n",
    "    \"JP Morgan Chase\" : 327,\n",
    "    \"Bank of America\" : 302,\n",
    "    \"Citigroup\" : 173,\n",
    "    \"Wells Fargo\" : 273,\n",
    "    \"Goldman Sachs\": 87,\n",
    "    \"Morgan Stanley\": 72,\n",
    "    \"U.S. Bancorp\": 83,\n",
    "    \"TD Bank\": 108,\n",
    "    \"PNC Financial Services\": 67,\n",
    "    \"Capital One\": 47,\n",
    "    \"FNB Corporation\": 4,\n",
    "    \"First Hawaiian Bank\": 3,\n",
    "    \"Ally Financial\": 12,\n",
    "    \"Wachovia\": 145,\n",
    "    \"Republic Bancorp\": .97,\n",
    "    }"
   ]
  },
  {
   "cell_type": "code",
   "execution_count": 10,
   "metadata": {},
   "outputs": [],
   "source": [
    "dict_fin.update({\"Citigroup\":173})"
   ]
  },
  {
   "cell_type": "code",
   "execution_count": 11,
   "metadata": {},
   "outputs": [],
   "source": [
    "dict_fin.update({\"American Express\": 33})"
   ]
  },
  {
   "cell_type": "code",
   "execution_count": 15,
   "metadata": {},
   "outputs": [],
   "source": [
    "del dict_fin[\"Wachovia\"]"
   ]
  },
  {
   "cell_type": "code",
   "execution_count": 21,
   "metadata": {},
   "outputs": [
    {
     "data": {
      "text/plain": [
       "{'JP Morgan Chase': 327,\n",
       " 'Bank of America': 302,\n",
       " 'Citigroup': 173,\n",
       " 'Wells Fargo': 273,\n",
       " 'Goldman Sachs': 87,\n",
       " 'Morgan Stanley': 72,\n",
       " 'U.S. Bancorp': 83,\n",
       " 'TD Bank': 108,\n",
       " 'PNC Financial Services': 67,\n",
       " 'Capital One': 47,\n",
       " 'FNB Corporation': 4,\n",
       " 'First Hawaiian Bank': 3,\n",
       " 'Ally Financial': 12,\n",
       " 'Republic Bancorp': 0.97,\n",
       " 'American Express': 33}"
      ]
     },
     "execution_count": 21,
     "metadata": {},
     "output_type": "execute_result"
    }
   ],
   "source": [
    "dict_fin"
   ]
  },
  {
   "cell_type": "code",
   "execution_count": 33,
   "metadata": {},
   "outputs": [
    {
     "data": {
      "text/plain": [
       "{'JP Morgan Chase': 327,\n",
       " 'Bank of America': 302,\n",
       " 'Citigroup': 173,\n",
       " 'Wells Fargo': 273,\n",
       " 'Goldman Sachs': 87,\n",
       " 'Morgan Stanley': 72,\n",
       " 'U.S. Bancorp': 83,\n",
       " 'TD Bank': 108,\n",
       " 'PNC Financial Services': 67,\n",
       " 'Capital One': 47,\n",
       " 'FNB Corporation': 4,\n",
       " 'First Hawaiian Bank': 3,\n",
       " 'Ally Financial': 12,\n",
       " 'Wachovia': 145,\n",
       " 'Republic Bancorp': 0.97}"
      ]
     },
     "execution_count": 33,
     "metadata": {},
     "output_type": "execute_result"
    }
   ],
   "source": [
    "dict"
   ]
  },
  {
   "cell_type": "code",
   "execution_count": 36,
   "metadata": {},
   "outputs": [
    {
     "name": "stdout",
     "output_type": "stream",
     "text": [
      "JP Morgan Chase corresponds to 327\n",
      "Bank of America corresponds to 302\n",
      "Citigroup corresponds to 173\n",
      "Wells Fargo corresponds to 273\n",
      "Goldman Sachs corresponds to 87\n",
      "Morgan Stanley corresponds to 72\n",
      "U.S. Bancorp corresponds to 83\n",
      "TD Bank corresponds to 108\n",
      "PNC Financial Services corresponds to 67\n",
      "Capital One corresponds to 47\n",
      "FNB Corporation corresponds to 4\n",
      "First Hawaiian Bank corresponds to 3\n",
      "Ally Financial corresponds to 12\n",
      "Republic Bancorp corresponds to 0.97\n",
      "American Express corresponds to 33\n"
     ]
    }
   ],
   "source": [
    "for key in dict_fin:\n",
    "    print (key, 'corresponds to', dict_fin[key])"
   ]
  },
  {
   "cell_type": "code",
   "execution_count": 73,
   "metadata": {},
   "outputs": [
    {
     "name": "stdout",
     "output_type": "stream",
     "text": [
      "JP Morgan Chase 327\n"
     ]
    }
   ],
   "source": [
    "tmcap= 0\n",
    "ctr=0\n",
    "amcap=0\n",
    "lbank= 0\n",
    "sbank= 0\n",
    "for key, value in dict_fin.items():\n",
    "    tmcap = tmcap + value\n",
    "    if value > lbank: \n",
    "        lbank = value\n",
    "        print(key,value)                \n",
    "    ctr=ctr+1\n",
    "\n"
   ]
  },
  {
   "cell_type": "code",
   "execution_count": 74,
   "metadata": {},
   "outputs": [
    {
     "name": "stdout",
     "output_type": "stream",
     "text": [
      "Total Market Cap 1591.97\n",
      "Total number of banks 15\n",
      "Average Market Cap  106.13133333333333\n",
      "Largest Bank 327\n",
      "Smallest Bank 0\n"
     ]
    }
   ],
   "source": [
    "amcap = tmcap/ctr\n",
    "print(\"Total Market Cap\", tmcap)\n",
    "print(\"Total number of banks\", ctr)\n",
    "print(\"Average Market Cap \", amcap)\n",
    "print(\"Largest Bank\", lbank)\n",
    "print(\"Smallest Bank\", sbank)"
   ]
  },
  {
   "cell_type": "code",
   "execution_count": 29,
   "metadata": {},
   "outputs": [],
   "source": [
    "fin_df=pd.DataFrame(dict_fin, index= ['M_cap'])"
   ]
  },
  {
   "cell_type": "code",
   "execution_count": 30,
   "metadata": {},
   "outputs": [
    {
     "data": {
      "text/html": [
       "<div>\n",
       "<style scoped>\n",
       "    .dataframe tbody tr th:only-of-type {\n",
       "        vertical-align: middle;\n",
       "    }\n",
       "\n",
       "    .dataframe tbody tr th {\n",
       "        vertical-align: top;\n",
       "    }\n",
       "\n",
       "    .dataframe thead th {\n",
       "        text-align: right;\n",
       "    }\n",
       "</style>\n",
       "<table border=\"1\" class=\"dataframe\">\n",
       "  <thead>\n",
       "    <tr style=\"text-align: right;\">\n",
       "      <th></th>\n",
       "      <th>JP Morgan Chase</th>\n",
       "      <th>Bank of America</th>\n",
       "      <th>Citigroup</th>\n",
       "      <th>Wells Fargo</th>\n",
       "      <th>Goldman Sachs</th>\n",
       "      <th>Morgan Stanley</th>\n",
       "      <th>U.S. Bancorp</th>\n",
       "      <th>TD Bank</th>\n",
       "      <th>PNC Financial Services</th>\n",
       "      <th>Capital One</th>\n",
       "      <th>FNB Corporation</th>\n",
       "      <th>First Hawaiian Bank</th>\n",
       "      <th>Ally Financial</th>\n",
       "      <th>Republic Bancorp</th>\n",
       "      <th>American Express</th>\n",
       "    </tr>\n",
       "  </thead>\n",
       "  <tbody>\n",
       "    <tr>\n",
       "      <th>M_cap</th>\n",
       "      <td>327</td>\n",
       "      <td>302</td>\n",
       "      <td>173</td>\n",
       "      <td>273</td>\n",
       "      <td>87</td>\n",
       "      <td>72</td>\n",
       "      <td>83</td>\n",
       "      <td>108</td>\n",
       "      <td>67</td>\n",
       "      <td>47</td>\n",
       "      <td>4</td>\n",
       "      <td>3</td>\n",
       "      <td>12</td>\n",
       "      <td>0.97</td>\n",
       "      <td>33</td>\n",
       "    </tr>\n",
       "  </tbody>\n",
       "</table>\n",
       "</div>"
      ],
      "text/plain": [
       "       JP Morgan Chase  Bank of America  Citigroup  Wells Fargo  \\\n",
       "M_cap              327              302        173          273   \n",
       "\n",
       "       Goldman Sachs  Morgan Stanley  U.S. Bancorp  TD Bank  \\\n",
       "M_cap             87              72            83      108   \n",
       "\n",
       "       PNC Financial Services  Capital One  FNB Corporation  \\\n",
       "M_cap                      67           47                4   \n",
       "\n",
       "       First Hawaiian Bank  Ally Financial  Republic Bancorp  American Express  \n",
       "M_cap                    3              12              0.97                33  "
      ]
     },
     "execution_count": 30,
     "metadata": {},
     "output_type": "execute_result"
    }
   ],
   "source": [
    "fin_df"
   ]
  },
  {
   "cell_type": "code",
   "execution_count": null,
   "metadata": {},
   "outputs": [],
   "source": [
    "fin_df()"
   ]
  }
 ],
 "metadata": {
  "kernelspec": {
   "display_name": "Python 3",
   "language": "python",
   "name": "python3"
  },
  "language_info": {
   "codemirror_mode": {
    "name": "ipython",
    "version": 3
   },
   "file_extension": ".py",
   "mimetype": "text/x-python",
   "name": "python",
   "nbconvert_exporter": "python",
   "pygments_lexer": "ipython3",
   "version": "3.8.5"
  }
 },
 "nbformat": 4,
 "nbformat_minor": 4
}
