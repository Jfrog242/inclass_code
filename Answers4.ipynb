{
 "cells": [
  {
   "cell_type": "code",
   "execution_count": 1,
   "metadata": {},
   "outputs": [],
   "source": [
    "c1_name =\"Mr. Farley\""
   ]
  },
  {
   "cell_type": "code",
   "execution_count": 2,
   "metadata": {},
   "outputs": [],
   "source": [
    "c1_age =65"
   ]
  },
  {
   "cell_type": "code",
   "execution_count": 3,
   "metadata": {},
   "outputs": [],
   "source": [
    "c1_profession = \"Web Developer\""
   ]
  },
  {
   "cell_type": "code",
   "execution_count": 4,
   "metadata": {},
   "outputs": [],
   "source": [
    "c1_salary = float (100000.00)"
   ]
  },
  {
   "cell_type": "code",
   "execution_count": 5,
   "metadata": {},
   "outputs": [],
   "source": [
    "c1_species = \"cat\""
   ]
  },
  {
   "cell_type": "code",
   "execution_count": 6,
   "metadata": {},
   "outputs": [],
   "source": [
    "c1_location = \"San Francisco,CA\""
   ]
  },
  {
   "cell_type": "code",
   "execution_count": 7,
   "metadata": {},
   "outputs": [],
   "source": [
    "c1_monthly_rent= 2000"
   ]
  },
  {
   "cell_type": "code",
   "execution_count": 10,
   "metadata": {},
   "outputs": [],
   "source": [
    "c1_monthly_rent=2000\n",
    "\n",
    "\n",
    "c1_monthly_expenses= 1500\n",
    "\n",
    "\n",
    "c1_yearly_rent= c1_monthly_rent * 12\n",
    "\n",
    "\n",
    "c1_yearly_expenses= 1500.00 * 12\n",
    "\n",
    "\n",
    "c1_savings= c1_salary - (c1_yearly_rent + c1_yearly_expenses)"
   ]
  },
  {
   "cell_type": "markdown",
   "metadata": {},
   "source": []
  },
  {
   "cell_type": "code",
   "execution_count": 15,
   "metadata": {},
   "outputs": [],
   "source": [
    "c2_name =\"Mr. Snuggles\"\n",
    "\n",
    "c2_age= 30\n",
    "\n",
    "c2_species = \"mouse\"\n",
    "\n",
    "c2_profession = \"Accountant\"\n",
    "\n",
    "c2_salary = 70000 \n",
    "\n",
    "c2_location= \"Oakland, CA\"\n",
    "\n",
    "c2_monthly_rent = 4000\n",
    "\n",
    "c2_monthly_expenses = 500\n",
    "\n",
    "c2_yearly_rent= c2_monthly_rent * 12\n",
    "\n",
    "c2_yearly_expenses = c2_monthly_expenses * 12\n",
    "\n",
    "c2_savings = c2_salary - (c1_yearly_rent + c2_yearly_expenses)"
   ]
  },
  {
   "cell_type": "code",
   "execution_count": 27,
   "metadata": {
    "scrolled": false
   },
   "outputs": [
    {
     "name": "stdout",
     "output_type": "stream",
     "text": [
      "Mr. Farley doesn't hail from a sports town.\n"
     ]
    }
   ],
   "source": [
    "if c1_location == \"Oakland, CA\":\n",
    "    print(\"Mr. Farley comes from the home of the Raiders!\")\n",
    "\n",
    "else:\n",
    "    if c2_location == \"San Francisco,CA\":\n",
    "        print(\"Mr. Farley comes from the home of the 49ers!.\")\n",
    "print(\"Mr. Farley doesn't hail from a sports town.\")\n",
    "            \n",
    "\n"
   ]
  },
  {
   "cell_type": "code",
   "execution_count": 45,
   "metadata": {},
   "outputs": [
    {
     "name": "stdout",
     "output_type": "stream",
     "text": [
      "Mr. Farley pays less rent than Mr. Snuggles\n"
     ]
    }
   ],
   "source": [
    "if c1_monthly_rent > c2_monthly_rent:\n",
    "    print(\"Mr. Farley pays more rent than Mr. Snuggles\")\n",
    "\n",
    "elif c1_monthly_rent < c2_monthly_rent :\n",
    "    print(\"Mr. Farley pays less rent than Mr. Snuggles\")\n",
    "\n",
    "else:\n",
    "    print(\"Mr. Farley pays the same rent as Mr. Snuggles\")\n",
    "            "
   ]
  },
  {
   "cell_type": "code",
   "execution_count": 32,
   "metadata": {},
   "outputs": [],
   "source": [
    "###tutor magic \n",
    "from metakernel import register_ipython_magics\n",
    "register_ipython_magics()"
   ]
  },
  {
   "cell_type": "markdown",
   "metadata": {},
   "source": [
    "%%tutor\n",
    "farm = [\"pig\", \"cow\", \"chicken\", \"dog\", \"horse\" , \"sheep\"]\n",
    "if farm[0] != \"Godzilla\":  # is not\n",
    "    print(\"raw\")\n",
    "if farm[-1] == \"mothra\":   # is\n",
    "    print(\"screech\")\n",
    "else:\n",
    "    print(\"This animal is neither Godzilla nor Mothra!\")\n",
    "    "
   ]
  },
  {
   "cell_type": "code",
   "execution_count": 46,
   "metadata": {},
   "outputs": [
    {
     "name": "stdout",
     "output_type": "stream",
     "text": [
      "Mr. Farley has more expenses than Mr. Snuggles\n"
     ]
    }
   ],
   "source": [
    "if c1_monthly_expenses > c2_monthly_expenses:\n",
    "    print(\"Mr. Farley has more expenses than Mr. Snuggles\")\n",
    "\n",
    "elif c1_monthly_rent < c2_monthly_rent :\n",
    "    print(\"Mr. Farley pays less expenses than Mr. Snuggles\")\n",
    "\n",
    "else:\n",
    "    print(\"Mr. Farley pays the same expenses as Mr. Snuggles\")\n",
    "            "
   ]
  },
  {
   "cell_type": "code",
   "execution_count": 49,
   "metadata": {},
   "outputs": [
    {
     "ename": "SyntaxError",
     "evalue": "invalid syntax (<ipython-input-49-2f959a56c485>, line 1)",
     "output_type": "error",
     "traceback": [
      "\u001b[1;36m  File \u001b[1;32m\"<ipython-input-49-2f959a56c485>\"\u001b[1;36m, line \u001b[1;32m1\u001b[0m\n\u001b[1;33m    if (c1_profession = =\"Web Developer\") and (c2_profession == \"Accountant\"):\u001b[0m\n\u001b[1;37m                      ^\u001b[0m\n\u001b[1;31mSyntaxError\u001b[0m\u001b[1;31m:\u001b[0m invalid syntax\n"
     ]
    }
   ],
   "source": [
    "if c1_profession = =\"Web Developer\") and (c2_profession == \"Accountant\"):\n",
    "    print(\"\"Look a Web Developer and an Accountant\")\n",
    "\n",
    "else:\n",
    "    print(\"They are professionals\")\n",
    "            "
   ]
  },
  {
   "cell_type": "code",
   "execution_count": null,
   "metadata": {},
   "outputs": [],
   "source": []
  }
 ],
 "metadata": {
  "kernelspec": {
   "display_name": "Python 3",
   "language": "python",
   "name": "python3"
  },
  "language_info": {
   "codemirror_mode": {
    "name": "ipython",
    "version": 3
   },
   "file_extension": ".py",
   "mimetype": "text/x-python",
   "name": "python",
   "nbconvert_exporter": "python",
   "pygments_lexer": "ipython3",
   "version": "3.8.5"
  }
 },
 "nbformat": 4,
 "nbformat_minor": 4
}
