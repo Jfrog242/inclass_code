{
 "cells": [
  {
   "cell_type": "code",
   "execution_count": 3,
   "metadata": {},
   "outputs": [
    {
     "name": "stdout",
     "output_type": "stream",
     "text": [
      "Welcome to the sandwich shop, what do I call you?Jon\n"
     ]
    }
   ],
   "source": [
    "welcome_name =input(\"Welcome to the sandwich shop, what do I call you? \")"
   ]
  },
  {
   "cell_type": "code",
   "execution_count": 18,
   "metadata": {},
   "outputs": [
    {
     "name": "stdout",
     "output_type": "stream",
     "text": [
      "Hello Jon\n"
     ]
    }
   ],
   "source": [
    "print(\"Hello\", welcome_name)\n"
   ]
  },
  {
   "cell_type": "code",
   "execution_count": 46,
   "metadata": {},
   "outputs": [],
   "source": [
    "# tutor magic\n",
    "from metakernel import register_ipython_magics\n",
    "register_ipython_magics()"
   ]
  },
  {
   "cell_type": "code",
   "execution_count": 43,
   "metadata": {},
   "outputs": [
    {
     "name": "stdout",
     "output_type": "stream",
     "text": [
      "Are you here for a sandwich? Y or N \n",
      "If you don't want a sandwich what are you here for?!\n"
     ]
    }
   ],
   "source": [
    "\n",
    "question_sandwich =input(\"Are you here for a sandwich? Y or N \")\n",
    "\n",
    "if question_sandwich == \"Y\":\n",
    "    food_prompt= input(\"What kind of sandwich would you like? \\n\")\n",
    "    print(\"Please wait 10 min for your \", food_prompt)\n",
    "else:\n",
    "    print(\"If you don't want a sandwich what are you here for?!\")\n",
    "\n",
    "\n"
   ]
  },
  {
   "cell_type": "code",
   "execution_count": 44,
   "metadata": {},
   "outputs": [],
   "source": [
    "## Questions 6"
   ]
  },
  {
   "cell_type": "code",
   "execution_count": 58,
   "metadata": {},
   "outputs": [
    {
     "name": "stdout",
     "output_type": "stream",
     "text": [
      "Welcome to the Boba Shop, What is your name? Jon\n",
      "What kind of Boba drink would you like? coke\n",
      "Hello Jon\n",
      "How sweet do you want your drink: 0, 50, 100, or 200? 100\n",
      "Your order of coke Boba with a sweet level of Normal sweet\n"
     ]
    }
   ],
   "source": [
    "\n",
    "\n",
    "name = input(\"Welcome to the Boba Shop, What is your name? \")\n",
    "beverage = input(\"What kind of Boba drink would you like? \")\n",
    "if name != \"\":\n",
    "    print(\"Hello\",name)\n",
    "    sweetness_level=input(\"How sweet do you want your drink: 0, 50, 100, or 200? \")\n",
    "    if sweetness_level == \"50\":\n",
    "        sweetness_level= \"Half sweetened\"\n",
    "    elif sweetness_level == \"100\":\n",
    "        sweetness_level= \"Normal sweet\"\n",
    "    elif sweetness_level == \"200\":\n",
    "        sweetness_level= \"Super sweet\"\n",
    "    else:\n",
    "        sweetness_level= \"non-sweet\"\n",
    "    print(\"Your order of\", beverage, \"Boba with a sweet level of\",sweetness_level)\n",
    "else:\n",
    "    print(\"You didn't give us your name! Goodbye!\")  "
   ]
  },
  {
   "cell_type": "code",
   "execution_count": null,
   "metadata": {},
   "outputs": [],
   "source": []
  }
 ],
 "metadata": {
  "kernelspec": {
   "display_name": "Python 3",
   "language": "python",
   "name": "python3"
  },
  "language_info": {
   "codemirror_mode": {
    "name": "ipython",
    "version": 3
   },
   "file_extension": ".py",
   "mimetype": "text/x-python",
   "name": "python",
   "nbconvert_exporter": "python",
   "pygments_lexer": "ipython3",
   "version": "3.8.5"
  }
 },
 "nbformat": 4,
 "nbformat_minor": 4
}
